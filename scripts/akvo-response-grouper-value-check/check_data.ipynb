{
 "cells": [
  {
   "cell_type": "code",
   "execution_count": 1,
   "id": "d7e53bf5",
   "metadata": {},
   "outputs": [],
   "source": [
    "import json\n",
    "import pandas as pd\n",
    "from AkvoResponseGrouper.utils import (\n",
    "    get_category,\n",
    ")"
   ]
  },
  {
   "cell_type": "code",
   "execution_count": 2,
   "id": "78627b1f",
   "metadata": {},
   "outputs": [],
   "source": [
    "with open(\"./category.json\",\"r\") as category_json:\n",
    "    categories = json.loads(category_json.read())"
   ]
  },
  {
   "cell_type": "code",
   "execution_count": 3,
   "id": "d05052e2",
   "metadata": {
    "scrolled": false
   },
   "outputs": [],
   "source": [
    "data = pd.read_csv(\"./siwins-2018-data-without-other.csv\")\n",
    "col_names = {d:d.split(\"|\")[0] for d in list(data)}\n",
    "data = data.rename(columns=col_names)"
   ]
  },
  {
   "cell_type": "code",
   "execution_count": 5,
   "id": "5046b22a",
   "metadata": {},
   "outputs": [],
   "source": [
    "meta = ['id',\n",
    "        'Identifier',\n",
    "        'Display Name',\n",
    "        'Device identifier',\n",
    "        'Submitter',\n",
    "        'Form version']"
   ]
  },
  {
   "cell_type": "code",
   "execution_count": 6,
   "id": "6866c2a1",
   "metadata": {},
   "outputs": [],
   "source": [
    "question_ids = []\n",
    "for category in categories:\n",
    "    for ct in category['categories']:\n",
    "        questions = ct.get('questions', [])\n",
    "        for question in questions:\n",
    "            question_ids.append(str(question['id']))"
   ]
  },
  {
   "cell_type": "code",
   "execution_count": 7,
   "id": "e40d09f9",
   "metadata": {},
   "outputs": [],
   "source": [
    "data = data[meta + list(set(question_ids))]"
   ]
  },
  {
   "cell_type": "code",
   "execution_count": 8,
   "id": "4f2cf1bc",
   "metadata": {},
   "outputs": [],
   "source": [
    "def split_value(value):\n",
    "    if type(value) == str:\n",
    "        if \":\" in value:\n",
    "            return [v.split(\":\")[1].strip() if \":\" in v else v.strip() for v in value.split(\"|\")]\n",
    "        return [v.strip() for v in value]\n",
    "    return []"
   ]
  },
  {
   "cell_type": "code",
   "execution_count": 9,
   "id": "04722a82",
   "metadata": {},
   "outputs": [],
   "source": [
    "for column in list(set(question_ids)):\n",
    "    data[str(column)] = data[column].apply(lambda x: split_value(x))"
   ]
  },
  {
   "cell_type": "code",
   "execution_count": 10,
   "id": "5b8d9099",
   "metadata": {},
   "outputs": [],
   "source": [
    "results = []\n",
    "for d in data.to_dict(\"records\"):\n",
    "    answers = {}\n",
    "    result = {\"id\": d[\"id\"]}\n",
    "    for col in list(set(question_ids)):\n",
    "        answers.update({col:d[col]})\n",
    "    for category in categories:\n",
    "        res = {\n",
    "            \"id\": d[\"id\"],\n",
    "            \"data\": d[\"id\"],\n",
    "            \"opt\": answers,\n",
    "            \"name\": category[\"name\"]\n",
    "        }\n",
    "        ct = get_category(data=res)\n",
    "        result.update({category[\"name\"]: ct})\n",
    "    results.append(result)"
   ]
  },
  {
   "cell_type": "code",
   "execution_count": 13,
   "id": "e543145a",
   "metadata": {},
   "outputs": [],
   "source": [
    "pd.DataFrame(results).to_csv(\"results-siwins-2018-data-without-other.csv\", index=None)"
   ]
  },
  {
   "cell_type": "code",
   "execution_count": null,
   "id": "6cebf4e2",
   "metadata": {},
   "outputs": [],
   "source": []
  }
 ],
 "metadata": {
  "kernelspec": {
   "display_name": "Python 3 (ipykernel)",
   "language": "python",
   "name": "python3"
  },
  "language_info": {
   "codemirror_mode": {
    "name": "ipython",
    "version": 3
   },
   "file_extension": ".py",
   "mimetype": "text/x-python",
   "name": "python",
   "nbconvert_exporter": "python",
   "pygments_lexer": "ipython3",
   "version": "3.10.7"
  }
 },
 "nbformat": 4,
 "nbformat_minor": 5
}
